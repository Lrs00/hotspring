{
 "cells": [
  {
   "cell_type": "code",
   "execution_count": 3,
   "id": "e787eda7-42e2-46a2-b75b-e159e3be8a1d",
   "metadata": {},
   "outputs": [],
   "source": [
    "import pandas as pd\n",
    "import matplotlib.pyplot as plt\n",
    "import numpy as np\n",
    "from ppi_py import ppi_mean_ci\n",
    "from sklearn.linear_model import LinearRegression\n",
    "from ppi_py import ppi_ols_ci\n",
    "from ppi_py.datasets import load_dataset\n",
    "from ppi_py import ppi_ols_pointestimate\n"
   ]
  },
  {
   "cell_type": "code",
   "execution_count": 4,
   "id": "0e134aba-993c-4995-96a2-10b9d368f6d7",
   "metadata": {},
   "outputs": [],
   "source": [
    "df=pd.read_csv('cyanobacteria_thermotolerance_amino_acid_composition_wide.csv')"
   ]
  },
  {
   "cell_type": "code",
   "execution_count": 5,
   "id": "6644c150-9943-427a-9e2f-d8d096bb07a2",
   "metadata": {},
   "outputs": [],
   "source": [
    "amino_acids = ['A', 'R', 'N','D','C','Q','E','G','H','I','L','K','M','F','P','S','T','W','Y','V']\n",
    "# Normalize by total AA count\n",
    "df['total_aa'] = df[amino_acids].sum(axis=1)\n",
    "for aa in amino_acids:\n",
    "    df[f'{aa}_freq'] = df[aa] / df['total_aa']"
   ]
  },
  {
   "cell_type": "code",
   "execution_count": 6,
   "id": "d1506b9b-bc7e-4642-9e28-a0dcfc853f46",
   "metadata": {},
   "outputs": [],
   "source": [
    "high_quality_df = df[df['ogt'].notnull()].copy()\n",
    "low_quality_df = df[df['genome_type']=='single_cell'].copy()"
   ]
  },
  {
   "cell_type": "code",
   "execution_count": 26,
   "id": "5357b067-9c06-4e20-8eec-5582bf6800ac",
   "metadata": {},
   "outputs": [
    {
     "data": {
      "text/plain": [
       "(39, 54)"
      ]
     },
     "execution_count": 26,
     "metadata": {},
     "output_type": "execute_result"
    }
   ],
   "source": [
    "high_quality_df.shape"
   ]
  },
  {
   "cell_type": "code",
   "execution_count": 27,
   "id": "9d81ea55-7b23-4858-8105-64a34227276b",
   "metadata": {},
   "outputs": [
    {
     "data": {
      "text/plain": [
       "(716, 54)"
      ]
     },
     "execution_count": 27,
     "metadata": {},
     "output_type": "execute_result"
    }
   ],
   "source": [
    "low_quality_df.shape"
   ]
  },
  {
   "cell_type": "code",
   "execution_count": 7,
   "id": "04f4df06-d3d4-44c4-b409-e97b61f632de",
   "metadata": {},
   "outputs": [
    {
     "name": "stdout",
     "output_type": "stream",
     "text": [
      "A:  CI = [-0.020, 0.003] | Point Estimate = -0.009\n",
      "R:  CI = [0.045, 0.082] | Point Estimate = 0.063\n",
      "N:  CI = [-0.055, 0.026] | Point Estimate = -0.014\n",
      "D:  CI = [-0.038, 0.028] | Point Estimate = -0.005\n",
      "C:  CI = [0.081, 0.194] | Point Estimate = 0.137\n",
      "Q:  CI = [0.000, 0.028] | Point Estimate = 0.014\n",
      "E:  CI = [-0.076, -0.026] | Point Estimate = -0.051\n",
      "G:  CI = [-0.033, 0.012] | Point Estimate = -0.010\n",
      "H:  CI = [-0.125, -0.033] | Point Estimate = -0.079\n",
      "I:  CI = [-0.041, 0.010] | Point Estimate = -0.016\n",
      "L:  CI = [-0.028, 0.011] | Point Estimate = -0.008\n",
      "K:  CI = [0.050, 0.094] | Point Estimate = 0.072\n",
      "M:  CI = [-0.089, 0.004] | Point Estimate = -0.043\n",
      "F:  CI = [-0.060, -0.000] | Point Estimate = -0.030\n",
      "P:  CI = [-0.054, -0.006] | Point Estimate = -0.030\n",
      "S:  CI = [0.009, 0.052] | Point Estimate = 0.031\n",
      "T:  CI = [-0.045, 0.012] | Point Estimate = -0.016\n",
      "W:  CI = [-0.006, 0.089] | Point Estimate = 0.042\n",
      "Y:  CI = [0.011, 0.067] | Point Estimate = 0.039\n",
      "V:  CI = [-0.012, 0.043] | Point Estimate = 0.015\n"
     ]
    }
   ],
   "source": [
    "\n",
    "aa_cols = amino_acids \n",
    "\n",
    "# Labeled data (isolates)\n",
    "X_labeled = high_quality_df[aa_cols].values\n",
    "y_labeled = high_quality_df['ogt'].values\n",
    "\n",
    "# Unlabeled data (single cells)\n",
    "X_unlabeled = low_quality_df[aa_cols].values\n",
    "\n",
    "# Fit model on labeled data\n",
    "model = LinearRegression()\n",
    "model.fit(X_labeled, y_labeled)\n",
    "\n",
    "# Predict for labeled and unlabeled\n",
    "yhat_labeled = model.predict(X_labeled)\n",
    "yhat_unlabeled = model.predict(X_unlabeled)\n",
    "\n",
    "alpha = 0.05  \n",
    "ci_low, ci_high = ppi_ols_ci(X_labeled, y_labeled, yhat_labeled, X_unlabeled, yhat_unlabeled, alpha=alpha)\n",
    "point_estimates = ppi_ols_pointestimate(X_labeled, y_labeled, yhat_labeled, X_unlabeled, yhat_unlabeled)\n",
    "\n",
    "\n",
    "for i, aa in enumerate(aa_cols):\n",
    "    print(f\"{aa}:  CI = [{ci_low[i]:.3f}, {ci_high[i]:.3f}] | Point Estimate = {point_estimates[i]:.3f}\")\n"
   ]
  },
  {
   "cell_type": "code",
   "execution_count": null,
   "id": "0e04aec1-5a27-48ad-b4a1-174488f6de8a",
   "metadata": {},
   "outputs": [],
   "source": []
  },
  {
   "cell_type": "code",
   "execution_count": null,
   "id": "82648070-6a08-4351-93f8-18e34a1b5fa6",
   "metadata": {},
   "outputs": [],
   "source": []
  },
  {
   "cell_type": "markdown",
   "id": "92eacf2f-5585-4576-b8fc-d744ad113d89",
   "metadata": {},
   "source": [
    "## PPI counts"
   ]
  },
  {
   "cell_type": "code",
   "execution_count": 37,
   "id": "5b77f4c3-a4e6-46c7-8d24-267dd10f84dd",
   "metadata": {},
   "outputs": [
    {
     "name": "stdout",
     "output_type": "stream",
     "text": [
      "Amino Acid    |  Naive Beta |  PPI Beta  |  Full Beta\n",
      "--------------------------------------------------\n",
      "A                  -0.010      -0.015       0.003\n",
      "R                  -0.014      -0.006      -0.011\n",
      "N                  -0.028      -0.069       0.004\n",
      "D                  -0.091      -0.155      -0.016\n",
      "C                   0.013       0.010      -0.001\n",
      "Q                   0.014       0.088      -0.006\n",
      "E                   0.016      -0.140       0.002\n",
      "G                  -0.012       0.076       0.009\n",
      "H                  -0.043      -0.066      -0.005\n",
      "I                   0.061       0.079       0.016\n",
      "L                   0.021       0.047      -0.004\n",
      "K                   0.091       0.148       0.013\n",
      "M                  -0.003      -0.010      -0.015\n",
      "F                   0.044       0.179      -0.028\n",
      "P                  -0.021       0.026       0.005\n",
      "S                   0.038       0.051       0.016\n",
      "T                  -0.031      -0.154      -0.016\n",
      "W                  -0.075      -0.198      -0.014\n",
      "Y                  -0.140      -0.207       0.023\n",
      "V                   0.028       0.017       0.006\n"
     ]
    }
   ],
   "source": [
    "\n",
    "# use counts\n",
    "aa_cols = amino_acids\n",
    "X_all = high_quality_df[aa_cols].values\n",
    "y_all = high_quality_df[\"ogt\"].values\n",
    "\n",
    "# Split into small labeled + large \"pseudo-unlabeled\"\n",
    "np.random.seed(105)\n",
    "n_total = X_all.shape[0]\n",
    "n_labeled = 20  # simulate small labeled set\n",
    "indices = np.random.permutation(n_total)\n",
    "\n",
    "labeled_idx = indices[:n_labeled]\n",
    "unlabeled_idx = indices[n_labeled:]\n",
    "\n",
    "X_labeled = X_all[labeled_idx]\n",
    "y_labeled = y_all[labeled_idx]\n",
    "X_unlabeled = X_all[unlabeled_idx]\n",
    "y_unlabeled_true = y_all[unlabeled_idx]  # only for validation\n",
    "\n",
    "# Train a model on labeled data and get predictions\n",
    "model = LinearRegression()\n",
    "model.fit(X_labeled, y_labeled)\n",
    "yhat_labeled = model.predict(X_labeled)\n",
    "yhat_unlabeled = model.predict(X_unlabeled)\n",
    "\n",
    "# Apply PPI\n",
    "alpha = 0.05\n",
    "ci_low, ci_high = ppi_ols_ci(X_labeled, y_labeled, yhat_labeled, X_unlabeled, yhat_unlabeled, alpha=alpha)\n",
    "ppi_beta = ppi_ols_pointestimate(X_labeled, y_labeled, yhat_labeled, X_unlabeled, yhat_unlabeled)\n",
    "\n",
    "# Compare with full regression (ground truth)\n",
    "full_model = LinearRegression()\n",
    "full_model.fit(X_all, y_all)\n",
    "full_beta = full_model.coef_\n",
    "\n",
    "# # Print comparison\n",
    "# print(\"Amino Acid    |  PPI Beta  |  Full Beta\")\n",
    "# print(\"-\" * 35)\n",
    "# for i, aa in enumerate(aa_cols):\n",
    "#     print(f\"{aa:<12}  {ppi_beta[i]:>9.3f}   {full_beta[i]:>9.3f}\")\n",
    "# Coefficients from naive model (trained only on labeled data)\n",
    "naive_beta = model.coef_\n",
    "\n",
    "# Print comparison table with 3 models: Naive, PPI, Full\n",
    "print(\"Amino Acid    |  Naive Beta |  PPI Beta  |  Full Beta\")\n",
    "print(\"-\" * 50)\n",
    "for i, aa in enumerate(aa_cols):\n",
    "    print(f\"{aa:<12}  {naive_beta[i]:>11.3f}   {ppi_beta[i]:>9.3f}   {full_beta[i]:>9.3f}\")\n",
    "\n"
   ]
  },
  {
   "cell_type": "code",
   "execution_count": 38,
   "id": "a232a6b2-3e17-4948-901e-0ff21a0e5d24",
   "metadata": {},
   "outputs": [
    {
     "name": "stdout",
     "output_type": "stream",
     "text": [
      "\n",
      " Comparing Predictions on Unlabeled Isolates\n",
      "Naive (Labeled Only) → MSE: 108.209, R²: -15.276\n",
      "PPI-Corrected        → MSE: 285444.499, R²: -42932.689\n",
      "Full Model           → MSE: 1.158, R²: 0.826\n"
     ]
    }
   ],
   "source": [
    "from sklearn.metrics import mean_squared_error, r2_score\n",
    "\n",
    "\n",
    "ppi_intercept = model.intercept_           # PPI uses same model intercept as naive\n",
    "full_intercept = full_model.intercept_\n",
    "naive_beta = model.coef_\n",
    "\n",
    "# Predictions using coefficients + intercepts\n",
    "y_pred_ppi = X_unlabeled @ ppi_beta + ppi_intercept\n",
    "y_pred_full = X_unlabeled @ full_beta + full_intercept\n",
    "y_pred_naive = X_unlabeled @ naive_beta + ppi_intercept  # same model\n",
    "\n",
    "# Evaluation function\n",
    "def evaluate(y_true, y_pred, label):\n",
    "    mse = mean_squared_error(y_true, y_pred)\n",
    "    r2 = r2_score(y_true, y_pred)\n",
    "    print(f\"{label:<20} → MSE: {mse:.3f}, R²: {r2:.3f}\")\n",
    "\n",
    "print(\"\\n Comparing Predictions on Unlabeled Isolates\")\n",
    "evaluate(y_unlabeled_true, y_pred_naive, \"Naive (Labeled Only)\")\n",
    "evaluate(y_unlabeled_true, y_pred_ppi,   \"PPI-Corrected\")\n",
    "evaluate(y_unlabeled_true, y_pred_full,  \"Full Model\")\n"
   ]
  },
  {
   "cell_type": "code",
   "execution_count": 39,
   "id": "ca1b7d12-c1f9-4099-b315-8b4f77ddc9bd",
   "metadata": {},
   "outputs": [
    {
     "name": "stdout",
     "output_type": "stream",
     "text": [
      "\n",
      " Comparing Predictions on All Isolates\n",
      "Naive (Labeled only) → MSE: 52.717, R²: -8.169\n",
      "PPI-Corrected        → MSE: 280529.232, R²: -48793.155\n",
      "Full Model           → MSE: 0.889, R²: 0.845\n"
     ]
    }
   ],
   "source": [
    "# Get model coefficients and intercepts\n",
    "naive_beta = model.coef_\n",
    "ppi_intercept = model.intercept_         # Use same intercept for PPI\n",
    "full_intercept = full_model.intercept_\n",
    "\n",
    "# Predictions on full data (not just unlabeled)\n",
    "y_pred_naive = X_all @ naive_beta + ppi_intercept\n",
    "y_pred_ppi   = X_all @ ppi_beta + ppi_intercept\n",
    "y_pred_full  = X_all @ full_beta + full_intercept\n",
    "\n",
    "# Evaluation function\n",
    "def evaluate(y_true, y_pred, label):\n",
    "    mse = mean_squared_error(y_true, y_pred)\n",
    "    r2 = r2_score(y_true, y_pred)\n",
    "    print(f\"{label:<20} → MSE: {mse:.3f}, R²: {r2:.3f}\")\n",
    "\n",
    "print(\"\\n Comparing Predictions on All Isolates\")\n",
    "evaluate(y_all, y_pred_naive, \"Naive (Labeled only)\")\n",
    "evaluate(y_all, y_pred_ppi,   \"PPI-Corrected\")\n",
    "evaluate(y_all, y_pred_full,  \"Full Model \")\n"
   ]
  },
  {
   "cell_type": "markdown",
   "id": "9175c704-76e3-41f0-bab3-2fc0b85e5d98",
   "metadata": {},
   "source": [
    "### PPI frequency "
   ]
  },
  {
   "cell_type": "code",
   "execution_count": 31,
   "id": "98f69eda-1350-4fc0-a538-f6754f13b272",
   "metadata": {},
   "outputs": [
    {
     "name": "stdout",
     "output_type": "stream",
     "text": [
      "Amino Acid    |  Naive Beta |  PPI Beta  |  Full Beta\n",
      "--------------------------------------------------\n",
      "A_freq         105922.348   -15578.978   841298814748705.750\n",
      "R_freq          57555.992   -32015.291   841298814734615.250\n",
      "N_freq          69293.183     932.662   841298814750122.125\n",
      "D_freq         -27669.222   -140857.297   841298814734663.375\n",
      "C_freq        -151612.315   -221698.367   841298814744235.625\n",
      "Q_freq         138569.186   29762.449   841298814742293.875\n",
      "E_freq          93194.026   -23175.295   841298814748657.500\n",
      "G_freq         122803.541   28690.760   841298814755382.875\n",
      "H_freq         -55850.885   -167609.614   841298814743534.500\n",
      "I_freq         265212.347   135159.859   841298814753681.125\n",
      "L_freq          58711.757   -38275.401   841298814742021.125\n",
      "K_freq         268794.410   123140.132   841298814758532.750\n",
      "M_freq          20718.614   -36116.685   841298814731417.625\n",
      "F_freq         -53476.170   -140991.796   841298814725870.000\n",
      "P_freq         148542.662   45339.744   841298814752409.125\n",
      "S_freq         282700.719   151010.490   841298814758310.000\n",
      "T_freq         -91250.359   -201673.359   841298814731430.000\n",
      "W_freq        -158340.851   -305606.203   841298814723060.625\n",
      "Y_freq         290631.867   214686.330   841298814762612.000\n",
      "V_freq         261837.764   162351.107   841298814749938.000\n"
     ]
    }
   ],
   "source": [
    "\n",
    "# Use frequency columns\n",
    "aa_cols = [f'{aa}_freq' for aa in amino_acids]\n",
    "X_all = high_quality_df[aa_cols].values\n",
    "y_all = high_quality_df[\"ogt\"].values\n",
    "\n",
    "# Split into small labeled + large \"pseudo-unlabeled\"\n",
    "np.random.seed(105)\n",
    "n_total = X_all.shape[0]\n",
    "n_labeled = 20\n",
    "indices = np.random.permutation(n_total)\n",
    "\n",
    "labeled_idx = indices[:n_labeled]\n",
    "unlabeled_idx = indices[n_labeled:]\n",
    "\n",
    "X_labeled = X_all[labeled_idx]\n",
    "y_labeled = y_all[labeled_idx]\n",
    "X_unlabeled = X_all[unlabeled_idx]\n",
    "y_unlabeled_true = y_all[unlabeled_idx]\n",
    "\n",
    "# Train naive model\n",
    "model = LinearRegression()\n",
    "model.fit(X_labeled, y_labeled)\n",
    "yhat_labeled = model.predict(X_labeled)\n",
    "yhat_unlabeled = model.predict(X_unlabeled)\n",
    "\n",
    "# PPI correction\n",
    "alpha = 0.05\n",
    "ci_low, ci_high = ppi_ols_ci(X_labeled, y_labeled, yhat_labeled, X_unlabeled, yhat_unlabeled, alpha=alpha)\n",
    "ppi_beta = ppi_ols_pointestimate(X_labeled, y_labeled, yhat_labeled, X_unlabeled, yhat_unlabeled)\n",
    "\n",
    "# Full model\n",
    "full_model = LinearRegression()\n",
    "full_model.fit(X_all, y_all)\n",
    "full_beta = full_model.coef_\n",
    "\n",
    "# Naive model beta\n",
    "naive_beta = model.coef_\n",
    "\n",
    "# Print comparison table\n",
    "print(\"Amino Acid    |  Naive Beta |  PPI Beta  |  Full Beta\")\n",
    "print(\"-\" * 50)\n",
    "for i, aa in enumerate(amino_acids):\n",
    "    print(f\"{aa + '_freq':<12}  {naive_beta[i]:>11.3f}   {ppi_beta[i]:>9.3f}   {full_beta[i]:>9.3f}\")\n"
   ]
  },
  {
   "cell_type": "code",
   "execution_count": 30,
   "id": "fb0b018b-21e1-430d-87aa-a218e71925f7",
   "metadata": {},
   "outputs": [
    {
     "name": "stdout",
     "output_type": "stream",
     "text": [
      "\n",
      " Comparing Predictions on Unlabeled Isolates\n",
      "Naive (Labeled Only) → MSE: 1044.245, R²: -156.065\n",
      "PPI-Corrected        → MSE: 11242536564.232, R²: -1690989229.044\n",
      "Full Model           → MSE: 1.193, R²: 0.821\n"
     ]
    }
   ],
   "source": [
    "\n",
    "ppi_intercept = model.intercept_           # PPI uses same model intercept as naive\n",
    "full_intercept = full_model.intercept_\n",
    "naive_beta = model.coef_\n",
    "\n",
    "# Predictions using coefficients + intercepts\n",
    "y_pred_ppi = X_unlabeled @ ppi_beta + ppi_intercept\n",
    "y_pred_full = X_unlabeled @ full_beta + full_intercept\n",
    "y_pred_naive = X_unlabeled @ naive_beta + ppi_intercept  # same model\n",
    "\n",
    "# Evaluation function\n",
    "def evaluate(y_true, y_pred, label):\n",
    "    mse = mean_squared_error(y_true, y_pred)\n",
    "    r2 = r2_score(y_true, y_pred)\n",
    "    print(f\"{label:<20} → MSE: {mse:.3f}, R²: {r2:.3f}\")\n",
    "\n",
    "print(\"\\n Comparing Predictions on Unlabeled Isolates\")\n",
    "evaluate(y_unlabeled_true, y_pred_naive, \"Naive (Labeled Only)\")\n",
    "evaluate(y_unlabeled_true, y_pred_ppi,   \"PPI-Corrected\")\n",
    "evaluate(y_unlabeled_true, y_pred_full,  \"Full Model\")"
   ]
  },
  {
   "cell_type": "code",
   "execution_count": 35,
   "id": "ce0fd0be-4516-4497-afa8-2d2a7b10ecc7",
   "metadata": {},
   "outputs": [
    {
     "name": "stdout",
     "output_type": "stream",
     "text": [
      "\n",
      " Comparing Predictions on All Isolates\n",
      "Naive (Labeled only) → MSE: 508.735, R²: -87.487\n",
      "PPI-Corrected        → MSE: 11243581616.577, R²: -1955664518.415\n",
      "Full Model           → MSE: 1.046, R²: 0.818\n"
     ]
    }
   ],
   "source": [
    "from sklearn.metrics import mean_squared_error, r2_score\n",
    "\n",
    "# Get model coefficients and intercepts\n",
    "naive_beta = model.coef_\n",
    "ppi_intercept = model.intercept_         # Use same intercept for PPI\n",
    "full_intercept = full_model.intercept_\n",
    "\n",
    "# Predictions on full data (not just unlabeled)\n",
    "y_pred_naive = X_all @ naive_beta + ppi_intercept\n",
    "y_pred_ppi   = X_all @ ppi_beta + ppi_intercept\n",
    "y_pred_full  = X_all @ full_beta + full_intercept\n",
    "\n",
    "# Evaluation function\n",
    "def evaluate(y_true, y_pred, label):\n",
    "    mse = mean_squared_error(y_true, y_pred)\n",
    "    r2 = r2_score(y_true, y_pred)\n",
    "    print(f\"{label:<20} → MSE: {mse:.3f}, R²: {r2:.3f}\")\n",
    "\n",
    "print(\"\\n Comparing Predictions on All Isolates\")\n",
    "evaluate(y_all, y_pred_naive, \"Naive (Labeled only)\")\n",
    "evaluate(y_all, y_pred_ppi,   \"PPI-Corrected\")\n",
    "evaluate(y_all, y_pred_full,  \"Full Model \")\n"
   ]
  },
  {
   "cell_type": "code",
   "execution_count": null,
   "id": "3efe5db8-a36d-4c6c-8f65-d3d5ea865cf4",
   "metadata": {},
   "outputs": [],
   "source": []
  },
  {
   "cell_type": "code",
   "execution_count": null,
   "id": "9af10768-ecde-4030-9d98-4b745f2f6c73",
   "metadata": {},
   "outputs": [],
   "source": []
  },
  {
   "cell_type": "code",
   "execution_count": null,
   "id": "0e0a3e92-44db-400a-ac9e-914fc884a633",
   "metadata": {},
   "outputs": [],
   "source": []
  },
  {
   "cell_type": "code",
   "execution_count": null,
   "id": "4d87d7f8-95b8-488f-9844-bef0c72e94d9",
   "metadata": {},
   "outputs": [],
   "source": []
  },
  {
   "cell_type": "code",
   "execution_count": null,
   "id": "c718adca-0976-4c19-963e-b6f09e837044",
   "metadata": {},
   "outputs": [],
   "source": []
  },
  {
   "cell_type": "code",
   "execution_count": null,
   "id": "45584471-5ce5-4d95-88a7-559e1d76c2c7",
   "metadata": {},
   "outputs": [],
   "source": []
  },
  {
   "cell_type": "code",
   "execution_count": null,
   "id": "d5485bba-1279-4e40-a436-ffeb69c92120",
   "metadata": {},
   "outputs": [],
   "source": []
  },
  {
   "cell_type": "code",
   "execution_count": null,
   "id": "9e149666-5327-42e8-8ae5-1b8e07b3af1b",
   "metadata": {},
   "outputs": [],
   "source": []
  },
  {
   "cell_type": "code",
   "execution_count": null,
   "id": "e1c0a193-dc89-4267-b5a0-26bf268a283e",
   "metadata": {},
   "outputs": [],
   "source": []
  },
  {
   "cell_type": "code",
   "execution_count": null,
   "id": "1358bf6d-4b25-4b55-be6b-100cbf23c172",
   "metadata": {},
   "outputs": [],
   "source": []
  }
 ],
 "metadata": {
  "kernelspec": {
   "display_name": "Python 3 (ipykernel)",
   "language": "python",
   "name": "python3"
  },
  "language_info": {
   "codemirror_mode": {
    "name": "ipython",
    "version": 3
   },
   "file_extension": ".py",
   "mimetype": "text/x-python",
   "name": "python",
   "nbconvert_exporter": "python",
   "pygments_lexer": "ipython3",
   "version": "3.12.2"
  }
 },
 "nbformat": 4,
 "nbformat_minor": 5
}
